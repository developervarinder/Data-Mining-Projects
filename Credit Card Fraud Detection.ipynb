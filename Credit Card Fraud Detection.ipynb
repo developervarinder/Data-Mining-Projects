{
 "cells": [
  {
   "cell_type": "markdown",
   "metadata": {},
   "source": [
    "# Assignment: Credit Card Fraud Detection revised\n",
    "\n",
    "we return to the credit card use case (last time we used Random Forests).\n",
    "\n",
    "\n",
    "## Pre-Stage\n",
    "Use your pre-processing from the last assignment as input.\n"
   ]
  },
  {
   "cell_type": "code",
   "execution_count": 2,
   "metadata": {
    "scrolled": true
   },
   "outputs": [
    {
     "name": "stdout",
     "output_type": "stream",
     "text": [
      "Archive:  creditcard.csv.zip\n",
      "  inflating: creditcard.csv          \n"
     ]
    }
   ],
   "source": [
    "#download data\n",
    "# !unzip creditcard.csv.zip\n",
    "\n",
    "#download data\n",
    "#!unzip creditcard.csv.zip\n",
    "\n",
    "import zipfile\n",
    "filename = \"creditcard.csv.zip\"\n",
    "with zipfile.ZipFile(filename, 'r') as zipfile_ref:\n",
    "    zipfile_ref.extractall(r\"C:/Users/Varinder/datamining/week9\")"
   ]
  },
  {
   "cell_type": "code",
   "execution_count": null,
   "metadata": {},
   "outputs": [],
   "source": [
    "import pandas as pd\n",
    "import matplotlib.pyplot as plt\n",
    "import seaborn as sns"
   ]
  },
  {
   "cell_type": "code",
   "execution_count": null,
   "metadata": {},
   "outputs": [],
   "source": []
  },
  {
   "cell_type": "code",
   "execution_count": null,
   "metadata": {},
   "outputs": [],
   "source": [
    "# preprocessing of code\n",
    "data = pd.read_csv(r\"C:/Users/Varinder/datamining/week9/creditcard.csv\", sep=',')\n",
    "data.head(10)"
   ]
  },
  {
   "cell_type": "code",
   "execution_count": null,
   "metadata": {},
   "outputs": [],
   "source": [
    "#no missing values in the data\n",
    "data.head(10)\n",
    "\n",
    "#There are two features which have values namely time and amount - we will see how they are distributed\n",
    "\n",
    "figure, ax = plt.subplots(1,2,figsize =(16,5))\n",
    "\n",
    "amount_values=data[\"Amount\"].values\n",
    "time_values=data[\"Time\"].values\n",
    "\n",
    "sns.distplot (amount_values, ax=ax[0], color='g')\n",
    "ax[0].set_title(\"Distribution of amount\")\n",
    "\n",
    "sns.distplot (time_values, ax=ax[1], color='r')\n",
    "ax[1].set_title(\"Distribution of Time\")\n",
    "\n",
    "plt.show()"
   ]
  },
  {
   "cell_type": "code",
   "execution_count": null,
   "metadata": {},
   "outputs": [],
   "source": [
    "colors = [\"red\", \"green\"]\n",
    "sns.countplot('Class', data=data, palette = colors)\n",
    "plt.title(\"Class distributions\", fontsize = 16)\n",
    "\n",
    "#The percentage of values in class 0 (non-fraud) is very high in the graph below.\n",
    "#Preprocessing\n",
    "\n",
    "#Scale and Distribute\n",
    "#Taking a subset of information that has almost equal instances of fraud and non-fraud, allows our algorithm to better understand the trends.\n",
    "from sklearn.preprocessing import RobustScaler\n",
    "\n",
    "Rscalar = RobustScaler()\n",
    "\n",
    "data['New_Amount'] = Rscalar.fit_transform(data['Amount'].values.reshape(-1,1))\n",
    "data['New_Time'] = Rscalar.fit_transform(data['Time'].values.reshape(-1,1))\n",
    "\n",
    "data.drop(['Time', 'Amount'], axis=1, inplace=True)\n",
    "data.head()"
   ]
  },
  {
   "cell_type": "code",
   "execution_count": null,
   "metadata": {},
   "outputs": [],
   "source": [
    "#In terms of fraud transactions, we need to see which features have a high positive or negative correlation.\n",
    "\n",
    "figure, ax = plt.subplots(figsize=(35,30))\n",
    "\n",
    "sub_sample_corr=data.corr()\n",
    "sns.heatmap(sub_sample_corr, cmap='viridis', ax=ax)\n",
    "ax.set_title(\"Matrix Correlatin of Variables\", fontsize =14)\n",
    "plt.show()\n",
    "\n",
    "#The following characteristics have a high negative correlation in the graph below compared to the \"Fraud\" class.\n",
    "#V10, V12, V14, V16\n",
    "\n",
    "#The following attributes have a high positive association with the fraud result of the transaction.\n",
    "#V2, V4, V11, V19"
   ]
  },
  {
   "cell_type": "code",
   "execution_count": null,
   "metadata": {},
   "outputs": [],
   "source": [
    "#Dividing the data frame into trains and checking\n",
    "\n",
    "from sklearn.model_selection import train_test_split\n",
    "\n",
    "X= data.drop('Class',axis=1)\n",
    "y=data['Class']\n",
    "\n",
    "# Split dataset and test set into training set\n",
    "# 70% training and 30% test\n",
    "X_train, X_test, y_train, y_test = train_test_split(X, y, test_size=0.3,random_state=109)\n",
    "\n",
    "print(len(X_train))\n",
    "print(len(X_test))\n",
    "print(len(y_train))\n",
    "print(len(y_test))"
   ]
  },
  {
   "cell_type": "code",
   "execution_count": null,
   "metadata": {},
   "outputs": [],
   "source": []
  },
  {
   "cell_type": "markdown",
   "metadata": {},
   "source": [
    "# Task: Train a MLP-Network\n",
    "* Train and evaluate the model \n",
    "* Compare the results to the Random Forrest \n",
    "* Tune the hyper-parameters (like number of layers, neurons per layer, learning-rate and number of epochs ) to optimize the results\n",
    "\n",
    "See: "
   ]
  },
  {
   "cell_type": "code",
   "execution_count": null,
   "metadata": {},
   "outputs": [],
   "source": [
    "import numpy as np\n",
    "\n",
    "inputX = X_train.to_numpy()\n",
    "inputY = y_train.to_numpy()\n",
    "inputX_test = X_test.to_numpy()\n",
    "inputY_test = y_test.to_numpy()\n",
    "\n",
    "inputX\n",
    "inputY"
   ]
  },
  {
   "cell_type": "code",
   "execution_count": null,
   "metadata": {},
   "outputs": [],
   "source": [
    "try:\n",
    "  \n",
    "  %tensorflow_version 2.x\n",
    "except Exception:\n",
    "  pass\n"
   ]
  },
  {
   "cell_type": "code",
   "execution_count": null,
   "metadata": {},
   "outputs": [],
   "source": [
    "from __future__ import absolute_import, division, print_function, unicode_literals\n",
    "\n",
    "# TensorFlow and tf.keras\n",
    "import tensorflow as tf\n",
    "from tensorflow import keras\n",
    "\n",
    "print(tf.__version__)"
   ]
  },
  {
   "cell_type": "code",
   "execution_count": null,
   "metadata": {},
   "outputs": [],
   "source": [
    "model = keras.Sequential([\n",
    "    keras.layers.Dense(128, activation='relu'),\n",
    "    keras.layers.Dense(10, activation='softmax')\n",
    "])"
   ]
  },
  {
   "cell_type": "code",
   "execution_count": null,
   "metadata": {},
   "outputs": [],
   "source": [
    "model.compile(optimizer='adam',\n",
    "              loss='sparse_categorical_crossentropy',\n",
    "              metrics=['accuracy'])"
   ]
  },
  {
   "cell_type": "code",
   "execution_count": null,
   "metadata": {},
   "outputs": [],
   "source": [
    "model.fit(inputX, inputY, epochs=10)"
   ]
  },
  {
   "cell_type": "code",
   "execution_count": null,
   "metadata": {},
   "outputs": [],
   "source": [
    "#Evaluating accuracy\n",
    "\n",
    "model.fit(inputX_test, inputY_test, epochs=10)"
   ]
  },
  {
   "cell_type": "code",
   "execution_count": null,
   "metadata": {},
   "outputs": [],
   "source": [
    "prediction = model.predict(inputX_test)"
   ]
  },
  {
   "cell_type": "code",
   "execution_count": null,
   "metadata": {},
   "outputs": [],
   "source": [
    "prediction[85000]"
   ]
  },
  {
   "cell_type": "code",
   "execution_count": null,
   "metadata": {},
   "outputs": [],
   "source": [
    "from sklearn.metrics import accuracy_score\n",
    "from sklearn.metrics import precision_score\n",
    "from sklearn.metrics import recall_score\n",
    "from sklearn.metrics import f1_score\n",
    "\n",
    "\n",
    "# Predicting test-set probabilities\n",
    "yhat_probs = model.predict(inputX_test, verbose=0)\n",
    "# Predicting crisp test collection groups\n",
    "yhat_classes = model.predict_classes(inputX_test, verbose=0)\n",
    "\n",
    "# accuracy=  (tp + tn) / (p + n)\n",
    "accuracy = accuracy_score(inputY_test, yhat_classes)\n",
    "print('Accuracy: %f' % accuracy)\n",
    "# precision tp / (tp + fp)\n",
    "precision = precision_score(inputY_test, yhat_classes)\n",
    "print('Precision: %f' % precision)\n",
    "# recall: tp / (tp + fn)\n",
    "recall = recall_score(inputY_test, yhat_classes)\n",
    "print('Recall: %f' % recall)\n",
    "# f1: 2 tp / (2 tp + fp + fn)\n",
    "f1 = f1_score(inputY_test, yhat_classes)\n",
    "print('F1 score: %f' % f1) "
   ]
  }
 ],
 "metadata": {
  "kernelspec": {
   "display_name": "Python 3",
   "language": "python",
   "name": "python3"
  },
  "language_info": {
   "codemirror_mode": {
    "name": "ipython",
    "version": 3
   },
   "file_extension": ".py",
   "mimetype": "text/x-python",
   "name": "python",
   "nbconvert_exporter": "python",
   "pygments_lexer": "ipython3",
   "version": "3.8.3"
  }
 },
 "nbformat": 4,
 "nbformat_minor": 2
}
